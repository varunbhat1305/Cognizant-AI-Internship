{
 "cells": [
  {
   "cell_type": "code",
   "execution_count": 1,
   "id": "a4256a9d",
   "metadata": {},
   "outputs": [],
   "source": [
    "#Importing the Libraries  \n",
    "import numpy as np\n",
    "import pandas as pd\n",
    "import matplotlib as plt\n",
    "import seaborn as sns"
   ]
  },
  {
   "cell_type": "code",
   "execution_count": 54,
   "id": "b39f1fd7",
   "metadata": {},
   "outputs": [],
   "source": [
    "#Importing Dataset\n",
    "sales_data= pd.read_csv('sample_sales_data.csv')"
   ]
  },
  {
   "cell_type": "code",
   "execution_count": 55,
   "id": "b9ecb1f0",
   "metadata": {},
   "outputs": [
    {
     "data": {
      "text/plain": [
       "(7829, 10)"
      ]
     },
     "execution_count": 55,
     "metadata": {},
     "output_type": "execute_result"
    }
   ],
   "source": [
    "#Shape of the Data\n",
    "sales_data.shape"
   ]
  },
  {
   "cell_type": "markdown",
   "id": "24e17cfb",
   "metadata": {},
   "source": [
    "There are 7829 Rows and 10 Columns in the Sample Sales Data"
   ]
  },
  {
   "cell_type": "code",
   "execution_count": 4,
   "id": "f50bc0e3",
   "metadata": {},
   "outputs": [
    {
     "name": "stdout",
     "output_type": "stream",
     "text": [
      "<class 'pandas.core.frame.DataFrame'>\n",
      "RangeIndex: 7829 entries, 0 to 7828\n",
      "Data columns (total 10 columns):\n",
      " #   Column          Non-Null Count  Dtype  \n",
      "---  ------          --------------  -----  \n",
      " 0   Unnamed: 0      7829 non-null   int64  \n",
      " 1   transaction_id  7829 non-null   object \n",
      " 2   timestamp       7829 non-null   object \n",
      " 3   product_id      7829 non-null   object \n",
      " 4   category        7829 non-null   object \n",
      " 5   customer_type   7829 non-null   object \n",
      " 6   unit_price      7829 non-null   float64\n",
      " 7   quantity        7829 non-null   int64  \n",
      " 8   total           7829 non-null   float64\n",
      " 9   payment_type    7829 non-null   object \n",
      "dtypes: float64(2), int64(2), object(6)\n",
      "memory usage: 611.8+ KB\n"
     ]
    }
   ],
   "source": [
    "sales_data.info()"
   ]
  },
  {
   "cell_type": "code",
   "execution_count": 5,
   "id": "60197dbd",
   "metadata": {},
   "outputs": [
    {
     "data": {
      "text/html": [
       "<div>\n",
       "<style scoped>\n",
       "    .dataframe tbody tr th:only-of-type {\n",
       "        vertical-align: middle;\n",
       "    }\n",
       "\n",
       "    .dataframe tbody tr th {\n",
       "        vertical-align: top;\n",
       "    }\n",
       "\n",
       "    .dataframe thead th {\n",
       "        text-align: right;\n",
       "    }\n",
       "</style>\n",
       "<table border=\"1\" class=\"dataframe\">\n",
       "  <thead>\n",
       "    <tr style=\"text-align: right;\">\n",
       "      <th></th>\n",
       "      <th>Unnamed: 0</th>\n",
       "      <th>transaction_id</th>\n",
       "      <th>timestamp</th>\n",
       "      <th>product_id</th>\n",
       "      <th>category</th>\n",
       "      <th>customer_type</th>\n",
       "      <th>unit_price</th>\n",
       "      <th>quantity</th>\n",
       "      <th>total</th>\n",
       "      <th>payment_type</th>\n",
       "    </tr>\n",
       "  </thead>\n",
       "  <tbody>\n",
       "    <tr>\n",
       "      <th>0</th>\n",
       "      <td>0</td>\n",
       "      <td>a1c82654-c52c-45b3-8ce8-4c2a1efe63ed</td>\n",
       "      <td>2022-03-02 09:51:38</td>\n",
       "      <td>3bc6c1ea-0198-46de-9ffd-514ae3338713</td>\n",
       "      <td>fruit</td>\n",
       "      <td>gold</td>\n",
       "      <td>3.99</td>\n",
       "      <td>2</td>\n",
       "      <td>7.98</td>\n",
       "      <td>e-wallet</td>\n",
       "    </tr>\n",
       "    <tr>\n",
       "      <th>1</th>\n",
       "      <td>1</td>\n",
       "      <td>931ad550-09e8-4da6-beaa-8c9d17be9c60</td>\n",
       "      <td>2022-03-06 10:33:59</td>\n",
       "      <td>ad81b46c-bf38-41cf-9b54-5fe7f5eba93e</td>\n",
       "      <td>fruit</td>\n",
       "      <td>standard</td>\n",
       "      <td>3.99</td>\n",
       "      <td>1</td>\n",
       "      <td>3.99</td>\n",
       "      <td>e-wallet</td>\n",
       "    </tr>\n",
       "    <tr>\n",
       "      <th>2</th>\n",
       "      <td>2</td>\n",
       "      <td>ae133534-6f61-4cd6-b6b8-d1c1d8d90aea</td>\n",
       "      <td>2022-03-04 17:20:21</td>\n",
       "      <td>7c55cbd4-f306-4c04-a030-628cbe7867c1</td>\n",
       "      <td>fruit</td>\n",
       "      <td>premium</td>\n",
       "      <td>0.19</td>\n",
       "      <td>2</td>\n",
       "      <td>0.38</td>\n",
       "      <td>e-wallet</td>\n",
       "    </tr>\n",
       "    <tr>\n",
       "      <th>3</th>\n",
       "      <td>3</td>\n",
       "      <td>157cebd9-aaf0-475d-8a11-7c8e0f5b76e4</td>\n",
       "      <td>2022-03-02 17:23:58</td>\n",
       "      <td>80da8348-1707-403f-8be7-9e6deeccc883</td>\n",
       "      <td>fruit</td>\n",
       "      <td>gold</td>\n",
       "      <td>0.19</td>\n",
       "      <td>4</td>\n",
       "      <td>0.76</td>\n",
       "      <td>e-wallet</td>\n",
       "    </tr>\n",
       "    <tr>\n",
       "      <th>4</th>\n",
       "      <td>4</td>\n",
       "      <td>a81a6cd3-5e0c-44a2-826c-aea43e46c514</td>\n",
       "      <td>2022-03-05 14:32:43</td>\n",
       "      <td>7f5e86e6-f06f-45f6-bf44-27b095c9ad1d</td>\n",
       "      <td>fruit</td>\n",
       "      <td>basic</td>\n",
       "      <td>4.49</td>\n",
       "      <td>2</td>\n",
       "      <td>8.98</td>\n",
       "      <td>debit card</td>\n",
       "    </tr>\n",
       "  </tbody>\n",
       "</table>\n",
       "</div>"
      ],
      "text/plain": [
       "   Unnamed: 0                        transaction_id            timestamp  \\\n",
       "0           0  a1c82654-c52c-45b3-8ce8-4c2a1efe63ed  2022-03-02 09:51:38   \n",
       "1           1  931ad550-09e8-4da6-beaa-8c9d17be9c60  2022-03-06 10:33:59   \n",
       "2           2  ae133534-6f61-4cd6-b6b8-d1c1d8d90aea  2022-03-04 17:20:21   \n",
       "3           3  157cebd9-aaf0-475d-8a11-7c8e0f5b76e4  2022-03-02 17:23:58   \n",
       "4           4  a81a6cd3-5e0c-44a2-826c-aea43e46c514  2022-03-05 14:32:43   \n",
       "\n",
       "                             product_id category customer_type  unit_price  \\\n",
       "0  3bc6c1ea-0198-46de-9ffd-514ae3338713    fruit          gold        3.99   \n",
       "1  ad81b46c-bf38-41cf-9b54-5fe7f5eba93e    fruit      standard        3.99   \n",
       "2  7c55cbd4-f306-4c04-a030-628cbe7867c1    fruit       premium        0.19   \n",
       "3  80da8348-1707-403f-8be7-9e6deeccc883    fruit          gold        0.19   \n",
       "4  7f5e86e6-f06f-45f6-bf44-27b095c9ad1d    fruit         basic        4.49   \n",
       "\n",
       "   quantity  total payment_type  \n",
       "0         2   7.98     e-wallet  \n",
       "1         1   3.99     e-wallet  \n",
       "2         2   0.38     e-wallet  \n",
       "3         4   0.76     e-wallet  \n",
       "4         2   8.98   debit card  "
      ]
     },
     "execution_count": 5,
     "metadata": {},
     "output_type": "execute_result"
    }
   ],
   "source": [
    "sales_data.head()"
   ]
  },
  {
   "cell_type": "markdown",
   "id": "c5a6c079",
   "metadata": {},
   "source": [
    "By Observing Information and Data, We can clearly say that <br>\n",
    "01. Unnamed: 0 is not useful for further analysis, needs to be Dropped <br>\n",
    "02. Timestamp is in Object type and needs to be converted to datetime\n"
   ]
  },
  {
   "cell_type": "code",
   "execution_count": 8,
   "id": "02064026",
   "metadata": {},
   "outputs": [],
   "source": [
    "#Dropping Unnecessary Columns\n",
    "sales_data= sales_data.drop('Unnamed: 0',axis=1)\n"
   ]
  },
  {
   "cell_type": "code",
   "execution_count": 9,
   "id": "d3b54ab0",
   "metadata": {},
   "outputs": [],
   "source": [
    "#Converting to Timestamp\n",
    "sales_data.timestamp = pd.to_datetime(sales_data.timestamp)"
   ]
  },
  {
   "cell_type": "code",
   "execution_count": 10,
   "id": "eeffcd07",
   "metadata": {},
   "outputs": [
    {
     "name": "stdout",
     "output_type": "stream",
     "text": [
      "<class 'pandas.core.frame.DataFrame'>\n",
      "RangeIndex: 7829 entries, 0 to 7828\n",
      "Data columns (total 9 columns):\n",
      " #   Column          Non-Null Count  Dtype         \n",
      "---  ------          --------------  -----         \n",
      " 0   transaction_id  7829 non-null   object        \n",
      " 1   timestamp       7829 non-null   datetime64[ns]\n",
      " 2   product_id      7829 non-null   object        \n",
      " 3   category        7829 non-null   object        \n",
      " 4   customer_type   7829 non-null   object        \n",
      " 5   unit_price      7829 non-null   float64       \n",
      " 6   quantity        7829 non-null   int64         \n",
      " 7   total           7829 non-null   float64       \n",
      " 8   payment_type    7829 non-null   object        \n",
      "dtypes: datetime64[ns](1), float64(2), int64(1), object(5)\n",
      "memory usage: 550.6+ KB\n"
     ]
    }
   ],
   "source": [
    "sales_data.info()"
   ]
  },
  {
   "cell_type": "code",
   "execution_count": 11,
   "id": "38e1831d",
   "metadata": {},
   "outputs": [
    {
     "data": {
      "text/html": [
       "<div>\n",
       "<style scoped>\n",
       "    .dataframe tbody tr th:only-of-type {\n",
       "        vertical-align: middle;\n",
       "    }\n",
       "\n",
       "    .dataframe tbody tr th {\n",
       "        vertical-align: top;\n",
       "    }\n",
       "\n",
       "    .dataframe thead th {\n",
       "        text-align: right;\n",
       "    }\n",
       "</style>\n",
       "<table border=\"1\" class=\"dataframe\">\n",
       "  <thead>\n",
       "    <tr style=\"text-align: right;\">\n",
       "      <th></th>\n",
       "      <th>transaction_id</th>\n",
       "      <th>timestamp</th>\n",
       "      <th>product_id</th>\n",
       "      <th>category</th>\n",
       "      <th>customer_type</th>\n",
       "      <th>unit_price</th>\n",
       "      <th>quantity</th>\n",
       "      <th>total</th>\n",
       "      <th>payment_type</th>\n",
       "    </tr>\n",
       "  </thead>\n",
       "  <tbody>\n",
       "    <tr>\n",
       "      <th>0</th>\n",
       "      <td>a1c82654-c52c-45b3-8ce8-4c2a1efe63ed</td>\n",
       "      <td>2022-03-02 09:51:38</td>\n",
       "      <td>3bc6c1ea-0198-46de-9ffd-514ae3338713</td>\n",
       "      <td>fruit</td>\n",
       "      <td>gold</td>\n",
       "      <td>3.99</td>\n",
       "      <td>2</td>\n",
       "      <td>7.98</td>\n",
       "      <td>e-wallet</td>\n",
       "    </tr>\n",
       "    <tr>\n",
       "      <th>1</th>\n",
       "      <td>931ad550-09e8-4da6-beaa-8c9d17be9c60</td>\n",
       "      <td>2022-03-06 10:33:59</td>\n",
       "      <td>ad81b46c-bf38-41cf-9b54-5fe7f5eba93e</td>\n",
       "      <td>fruit</td>\n",
       "      <td>standard</td>\n",
       "      <td>3.99</td>\n",
       "      <td>1</td>\n",
       "      <td>3.99</td>\n",
       "      <td>e-wallet</td>\n",
       "    </tr>\n",
       "    <tr>\n",
       "      <th>2</th>\n",
       "      <td>ae133534-6f61-4cd6-b6b8-d1c1d8d90aea</td>\n",
       "      <td>2022-03-04 17:20:21</td>\n",
       "      <td>7c55cbd4-f306-4c04-a030-628cbe7867c1</td>\n",
       "      <td>fruit</td>\n",
       "      <td>premium</td>\n",
       "      <td>0.19</td>\n",
       "      <td>2</td>\n",
       "      <td>0.38</td>\n",
       "      <td>e-wallet</td>\n",
       "    </tr>\n",
       "    <tr>\n",
       "      <th>3</th>\n",
       "      <td>157cebd9-aaf0-475d-8a11-7c8e0f5b76e4</td>\n",
       "      <td>2022-03-02 17:23:58</td>\n",
       "      <td>80da8348-1707-403f-8be7-9e6deeccc883</td>\n",
       "      <td>fruit</td>\n",
       "      <td>gold</td>\n",
       "      <td>0.19</td>\n",
       "      <td>4</td>\n",
       "      <td>0.76</td>\n",
       "      <td>e-wallet</td>\n",
       "    </tr>\n",
       "    <tr>\n",
       "      <th>4</th>\n",
       "      <td>a81a6cd3-5e0c-44a2-826c-aea43e46c514</td>\n",
       "      <td>2022-03-05 14:32:43</td>\n",
       "      <td>7f5e86e6-f06f-45f6-bf44-27b095c9ad1d</td>\n",
       "      <td>fruit</td>\n",
       "      <td>basic</td>\n",
       "      <td>4.49</td>\n",
       "      <td>2</td>\n",
       "      <td>8.98</td>\n",
       "      <td>debit card</td>\n",
       "    </tr>\n",
       "  </tbody>\n",
       "</table>\n",
       "</div>"
      ],
      "text/plain": [
       "                         transaction_id           timestamp  \\\n",
       "0  a1c82654-c52c-45b3-8ce8-4c2a1efe63ed 2022-03-02 09:51:38   \n",
       "1  931ad550-09e8-4da6-beaa-8c9d17be9c60 2022-03-06 10:33:59   \n",
       "2  ae133534-6f61-4cd6-b6b8-d1c1d8d90aea 2022-03-04 17:20:21   \n",
       "3  157cebd9-aaf0-475d-8a11-7c8e0f5b76e4 2022-03-02 17:23:58   \n",
       "4  a81a6cd3-5e0c-44a2-826c-aea43e46c514 2022-03-05 14:32:43   \n",
       "\n",
       "                             product_id category customer_type  unit_price  \\\n",
       "0  3bc6c1ea-0198-46de-9ffd-514ae3338713    fruit          gold        3.99   \n",
       "1  ad81b46c-bf38-41cf-9b54-5fe7f5eba93e    fruit      standard        3.99   \n",
       "2  7c55cbd4-f306-4c04-a030-628cbe7867c1    fruit       premium        0.19   \n",
       "3  80da8348-1707-403f-8be7-9e6deeccc883    fruit          gold        0.19   \n",
       "4  7f5e86e6-f06f-45f6-bf44-27b095c9ad1d    fruit         basic        4.49   \n",
       "\n",
       "   quantity  total payment_type  \n",
       "0         2   7.98     e-wallet  \n",
       "1         1   3.99     e-wallet  \n",
       "2         2   0.38     e-wallet  \n",
       "3         4   0.76     e-wallet  \n",
       "4         2   8.98   debit card  "
      ]
     },
     "execution_count": 11,
     "metadata": {},
     "output_type": "execute_result"
    }
   ],
   "source": [
    "sales_data.head()"
   ]
  },
  {
   "cell_type": "code",
   "execution_count": 6,
   "id": "9ec4bde3",
   "metadata": {},
   "outputs": [
    {
     "data": {
      "text/plain": [
       "Unnamed: 0        0\n",
       "transaction_id    0\n",
       "timestamp         0\n",
       "product_id        0\n",
       "category          0\n",
       "customer_type     0\n",
       "unit_price        0\n",
       "quantity          0\n",
       "total             0\n",
       "payment_type      0\n",
       "dtype: int64"
      ]
     },
     "execution_count": 6,
     "metadata": {},
     "output_type": "execute_result"
    }
   ],
   "source": [
    "#Missing Values Check\n",
    "sales_data.isnull().sum()"
   ]
  },
  {
   "cell_type": "code",
   "execution_count": 7,
   "id": "eb8c4fb5",
   "metadata": {},
   "outputs": [
    {
     "data": {
      "text/plain": [
       "0"
      ]
     },
     "execution_count": 7,
     "metadata": {},
     "output_type": "execute_result"
    }
   ],
   "source": [
    "#Duplicate Values Check\n",
    "sales_data.duplicated().sum()"
   ]
  },
  {
   "cell_type": "code",
   "execution_count": 12,
   "id": "7e57e442",
   "metadata": {},
   "outputs": [
    {
     "data": {
      "text/plain": [
       "['timestamp']"
      ]
     },
     "execution_count": 12,
     "metadata": {},
     "output_type": "execute_result"
    }
   ],
   "source": [
    "#TimeStamp Features\n",
    "ts_features= [feature for feature in sales_data.columns if sales_data[feature].dtypes == 'datetime64[ns]']\n",
    "ts_features"
   ]
  },
  {
   "cell_type": "code",
   "execution_count": 13,
   "id": "98901aa8",
   "metadata": {},
   "outputs": [
    {
     "data": {
      "text/plain": [
       "['transaction_id', 'product_id', 'category', 'customer_type', 'payment_type']"
      ]
     },
     "execution_count": 13,
     "metadata": {},
     "output_type": "execute_result"
    }
   ],
   "source": [
    "#Categorical Features\n",
    "cat_features= [feature for feature in sales_data.columns if sales_data[feature].dtypes == 'O']\n",
    "cat_features"
   ]
  },
  {
   "cell_type": "code",
   "execution_count": 14,
   "id": "0e8d96ab",
   "metadata": {},
   "outputs": [
    {
     "data": {
      "text/plain": [
       "['unit_price', 'quantity', 'total']"
      ]
     },
     "execution_count": 14,
     "metadata": {},
     "output_type": "execute_result"
    }
   ],
   "source": [
    "#Numerical Features\n",
    "num_features= [feature for feature in sales_data.columns if sales_data[feature].dtypes != 'O' and sales_data[feature].dtypes != 'datetime64[ns]']\n",
    "num_features"
   ]
  },
  {
   "cell_type": "code",
   "execution_count": 52,
   "id": "7375a64b",
   "metadata": {},
   "outputs": [
    {
     "data": {
      "text/plain": [
       "2022    7829\n",
       "Name: timestamp, dtype: int64"
      ]
     },
     "execution_count": 52,
     "metadata": {},
     "output_type": "execute_result"
    }
   ],
   "source": [
    "yr=sales_data['timestamp'].dt.year\n",
    "yr.value_counts()"
   ]
  },
  {
   "cell_type": "code",
   "execution_count": 53,
   "id": "9d72866e",
   "metadata": {},
   "outputs": [
    {
     "data": {
      "text/plain": [
       "3    7829\n",
       "Name: timestamp, dtype: int64"
      ]
     },
     "execution_count": 53,
     "metadata": {},
     "output_type": "execute_result"
    }
   ],
   "source": [
    "mnth=sales_data['timestamp'].dt.month\n",
    "mnth.value_counts()"
   ]
  },
  {
   "cell_type": "code",
   "execution_count": 51,
   "id": "34df640b",
   "metadata": {},
   "outputs": [
    {
     "data": {
      "text/plain": [
       "2    1168\n",
       "1    1165\n",
       "6    1132\n",
       "4    1108\n",
       "7    1104\n",
       "3    1078\n",
       "5    1074\n",
       "Name: timestamp, dtype: int64"
      ]
     },
     "execution_count": 51,
     "metadata": {},
     "output_type": "execute_result"
    }
   ],
   "source": [
    "dt=sales_data['timestamp'].dt.day\n",
    "dt.value_counts()"
   ]
  },
  {
   "cell_type": "code",
   "execution_count": 46,
   "id": "f17244c5",
   "metadata": {},
   "outputs": [
    {
     "data": {
      "text/plain": [
       "11    738\n",
       "16    730\n",
       "18    727\n",
       "10    723\n",
       "12    721\n",
       "9     718\n",
       "19    709\n",
       "14    702\n",
       "17    699\n",
       "13    693\n",
       "15    669\n",
       "Name: timestamp, dtype: int64"
      ]
     },
     "execution_count": 46,
     "metadata": {},
     "output_type": "execute_result"
    }
   ],
   "source": [
    "hr=sales_data['timestamp'].dt.hour\n",
    "hr.value_counts()"
   ]
  },
  {
   "cell_type": "code",
   "execution_count": 33,
   "id": "7e749262",
   "metadata": {},
   "outputs": [
    {
     "ename": "NameError",
     "evalue": "name 'get_unique_values' is not defined",
     "output_type": "error",
     "traceback": [
      "\u001b[1;31m---------------------------------------------------------------------------\u001b[0m",
      "\u001b[1;31mNameError\u001b[0m                                 Traceback (most recent call last)",
      "\u001b[1;32m~\\AppData\\Local\\Temp\\ipykernel_2380\\3199055883.py\u001b[0m in \u001b[0;36m<module>\u001b[1;34m\u001b[0m\n\u001b[1;32m----> 1\u001b[1;33m \u001b[0mget_unique_values\u001b[0m\u001b[1;33m(\u001b[0m\u001b[0msales_data\u001b[0m\u001b[1;33m,\u001b[0m \u001b[1;34m'transaction_id'\u001b[0m\u001b[1;33m)\u001b[0m\u001b[1;33m\u001b[0m\u001b[1;33m\u001b[0m\u001b[0m\n\u001b[0m",
      "\u001b[1;31mNameError\u001b[0m: name 'get_unique_values' is not defined"
     ]
    }
   ],
   "source": []
  },
  {
   "cell_type": "code",
   "execution_count": null,
   "id": "abb38559",
   "metadata": {},
   "outputs": [],
   "source": []
  },
  {
   "cell_type": "code",
   "execution_count": null,
   "id": "46fa4b7f",
   "metadata": {},
   "outputs": [],
   "source": []
  }
 ],
 "metadata": {
  "kernelspec": {
   "display_name": "Python 3 (ipykernel)",
   "language": "python",
   "name": "python3"
  },
  "language_info": {
   "codemirror_mode": {
    "name": "ipython",
    "version": 3
   },
   "file_extension": ".py",
   "mimetype": "text/x-python",
   "name": "python",
   "nbconvert_exporter": "python",
   "pygments_lexer": "ipython3",
   "version": "3.9.13"
  }
 },
 "nbformat": 4,
 "nbformat_minor": 5
}
