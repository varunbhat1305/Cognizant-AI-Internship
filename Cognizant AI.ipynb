{
 "cells": [
  {
   "cell_type": "code",
   "execution_count": 78,
   "id": "a4256a9d",
   "metadata": {},
   "outputs": [],
   "source": [
    "#Importing the Libraries  \n",
    "import numpy as np\n",
    "import pandas as pd\n",
    "import matplotlib as plt\n",
    "import seaborn as sns"
   ]
  },
  {
   "cell_type": "code",
   "execution_count": 79,
   "id": "b39f1fd7",
   "metadata": {},
   "outputs": [],
   "source": [
    "#Importing Dataset\n",
    "sales_data= pd.read_csv('sample_sales_data.csv')"
   ]
  },
  {
   "cell_type": "code",
   "execution_count": 80,
   "id": "b9ecb1f0",
   "metadata": {},
   "outputs": [
    {
     "data": {
      "text/plain": [
       "(7829, 10)"
      ]
     },
     "execution_count": 80,
     "metadata": {},
     "output_type": "execute_result"
    }
   ],
   "source": [
    "#Shape of the Data\n",
    "sales_data.shape"
   ]
  },
  {
   "cell_type": "markdown",
   "id": "08e704ba",
   "metadata": {},
   "source": [
    "*There are 7829 Rows and 10 Columns in the Sample Sales Data*"
   ]
  },
  {
   "cell_type": "code",
   "execution_count": 81,
   "id": "f50bc0e3",
   "metadata": {},
   "outputs": [
    {
     "name": "stdout",
     "output_type": "stream",
     "text": [
      "<class 'pandas.core.frame.DataFrame'>\n",
      "RangeIndex: 7829 entries, 0 to 7828\n",
      "Data columns (total 10 columns):\n",
      " #   Column          Non-Null Count  Dtype  \n",
      "---  ------          --------------  -----  \n",
      " 0   Unnamed: 0      7829 non-null   int64  \n",
      " 1   transaction_id  7829 non-null   object \n",
      " 2   timestamp       7829 non-null   object \n",
      " 3   product_id      7829 non-null   object \n",
      " 4   category        7829 non-null   object \n",
      " 5   customer_type   7829 non-null   object \n",
      " 6   unit_price      7829 non-null   float64\n",
      " 7   quantity        7829 non-null   int64  \n",
      " 8   total           7829 non-null   float64\n",
      " 9   payment_type    7829 non-null   object \n",
      "dtypes: float64(2), int64(2), object(6)\n",
      "memory usage: 611.8+ KB\n"
     ]
    }
   ],
   "source": [
    "sales_data.info()"
   ]
  },
  {
   "cell_type": "code",
   "execution_count": 82,
   "id": "60197dbd",
   "metadata": {},
   "outputs": [
    {
     "data": {
      "text/html": [
       "<div>\n",
       "<style scoped>\n",
       "    .dataframe tbody tr th:only-of-type {\n",
       "        vertical-align: middle;\n",
       "    }\n",
       "\n",
       "    .dataframe tbody tr th {\n",
       "        vertical-align: top;\n",
       "    }\n",
       "\n",
       "    .dataframe thead th {\n",
       "        text-align: right;\n",
       "    }\n",
       "</style>\n",
       "<table border=\"1\" class=\"dataframe\">\n",
       "  <thead>\n",
       "    <tr style=\"text-align: right;\">\n",
       "      <th></th>\n",
       "      <th>Unnamed: 0</th>\n",
       "      <th>transaction_id</th>\n",
       "      <th>timestamp</th>\n",
       "      <th>product_id</th>\n",
       "      <th>category</th>\n",
       "      <th>customer_type</th>\n",
       "      <th>unit_price</th>\n",
       "      <th>quantity</th>\n",
       "      <th>total</th>\n",
       "      <th>payment_type</th>\n",
       "    </tr>\n",
       "  </thead>\n",
       "  <tbody>\n",
       "    <tr>\n",
       "      <th>0</th>\n",
       "      <td>0</td>\n",
       "      <td>a1c82654-c52c-45b3-8ce8-4c2a1efe63ed</td>\n",
       "      <td>2022-03-02 09:51:38</td>\n",
       "      <td>3bc6c1ea-0198-46de-9ffd-514ae3338713</td>\n",
       "      <td>fruit</td>\n",
       "      <td>gold</td>\n",
       "      <td>3.99</td>\n",
       "      <td>2</td>\n",
       "      <td>7.98</td>\n",
       "      <td>e-wallet</td>\n",
       "    </tr>\n",
       "    <tr>\n",
       "      <th>1</th>\n",
       "      <td>1</td>\n",
       "      <td>931ad550-09e8-4da6-beaa-8c9d17be9c60</td>\n",
       "      <td>2022-03-06 10:33:59</td>\n",
       "      <td>ad81b46c-bf38-41cf-9b54-5fe7f5eba93e</td>\n",
       "      <td>fruit</td>\n",
       "      <td>standard</td>\n",
       "      <td>3.99</td>\n",
       "      <td>1</td>\n",
       "      <td>3.99</td>\n",
       "      <td>e-wallet</td>\n",
       "    </tr>\n",
       "    <tr>\n",
       "      <th>2</th>\n",
       "      <td>2</td>\n",
       "      <td>ae133534-6f61-4cd6-b6b8-d1c1d8d90aea</td>\n",
       "      <td>2022-03-04 17:20:21</td>\n",
       "      <td>7c55cbd4-f306-4c04-a030-628cbe7867c1</td>\n",
       "      <td>fruit</td>\n",
       "      <td>premium</td>\n",
       "      <td>0.19</td>\n",
       "      <td>2</td>\n",
       "      <td>0.38</td>\n",
       "      <td>e-wallet</td>\n",
       "    </tr>\n",
       "    <tr>\n",
       "      <th>3</th>\n",
       "      <td>3</td>\n",
       "      <td>157cebd9-aaf0-475d-8a11-7c8e0f5b76e4</td>\n",
       "      <td>2022-03-02 17:23:58</td>\n",
       "      <td>80da8348-1707-403f-8be7-9e6deeccc883</td>\n",
       "      <td>fruit</td>\n",
       "      <td>gold</td>\n",
       "      <td>0.19</td>\n",
       "      <td>4</td>\n",
       "      <td>0.76</td>\n",
       "      <td>e-wallet</td>\n",
       "    </tr>\n",
       "    <tr>\n",
       "      <th>4</th>\n",
       "      <td>4</td>\n",
       "      <td>a81a6cd3-5e0c-44a2-826c-aea43e46c514</td>\n",
       "      <td>2022-03-05 14:32:43</td>\n",
       "      <td>7f5e86e6-f06f-45f6-bf44-27b095c9ad1d</td>\n",
       "      <td>fruit</td>\n",
       "      <td>basic</td>\n",
       "      <td>4.49</td>\n",
       "      <td>2</td>\n",
       "      <td>8.98</td>\n",
       "      <td>debit card</td>\n",
       "    </tr>\n",
       "  </tbody>\n",
       "</table>\n",
       "</div>"
      ],
      "text/plain": [
       "   Unnamed: 0                        transaction_id            timestamp  \\\n",
       "0           0  a1c82654-c52c-45b3-8ce8-4c2a1efe63ed  2022-03-02 09:51:38   \n",
       "1           1  931ad550-09e8-4da6-beaa-8c9d17be9c60  2022-03-06 10:33:59   \n",
       "2           2  ae133534-6f61-4cd6-b6b8-d1c1d8d90aea  2022-03-04 17:20:21   \n",
       "3           3  157cebd9-aaf0-475d-8a11-7c8e0f5b76e4  2022-03-02 17:23:58   \n",
       "4           4  a81a6cd3-5e0c-44a2-826c-aea43e46c514  2022-03-05 14:32:43   \n",
       "\n",
       "                             product_id category customer_type  unit_price  \\\n",
       "0  3bc6c1ea-0198-46de-9ffd-514ae3338713    fruit          gold        3.99   \n",
       "1  ad81b46c-bf38-41cf-9b54-5fe7f5eba93e    fruit      standard        3.99   \n",
       "2  7c55cbd4-f306-4c04-a030-628cbe7867c1    fruit       premium        0.19   \n",
       "3  80da8348-1707-403f-8be7-9e6deeccc883    fruit          gold        0.19   \n",
       "4  7f5e86e6-f06f-45f6-bf44-27b095c9ad1d    fruit         basic        4.49   \n",
       "\n",
       "   quantity  total payment_type  \n",
       "0         2   7.98     e-wallet  \n",
       "1         1   3.99     e-wallet  \n",
       "2         2   0.38     e-wallet  \n",
       "3         4   0.76     e-wallet  \n",
       "4         2   8.98   debit card  "
      ]
     },
     "execution_count": 82,
     "metadata": {},
     "output_type": "execute_result"
    }
   ],
   "source": [
    "sales_data.head()"
   ]
  },
  {
   "cell_type": "markdown",
   "id": "b5cc5218",
   "metadata": {},
   "source": [
    "*By Observing Information and Data, We can clearly say that <br>*\n",
    "*01. Unnamed: 0 is not useful for further analysis, needs to be Dropped <br>*\n",
    "*02. Timestamp is in Object type and needs to be converted to datetime*\n"
   ]
  },
  {
   "cell_type": "markdown",
   "id": "db2c03bb",
   "metadata": {},
   "source": [
    "### Dropping and Converting Columns"
   ]
  },
  {
   "cell_type": "code",
   "execution_count": 83,
   "id": "02064026",
   "metadata": {},
   "outputs": [],
   "source": [
    "#Dropping Unnecessary Columns\n",
    "sales_data= sales_data.drop('Unnamed: 0',axis=1)"
   ]
  },
  {
   "cell_type": "code",
   "execution_count": 84,
   "id": "d3b54ab0",
   "metadata": {},
   "outputs": [],
   "source": [
    "#Converting to Timestamp\n",
    "sales_data.timestamp = pd.to_datetime(sales_data.timestamp)"
   ]
  },
  {
   "cell_type": "code",
   "execution_count": 85,
   "id": "eeffcd07",
   "metadata": {},
   "outputs": [
    {
     "name": "stdout",
     "output_type": "stream",
     "text": [
      "<class 'pandas.core.frame.DataFrame'>\n",
      "RangeIndex: 7829 entries, 0 to 7828\n",
      "Data columns (total 9 columns):\n",
      " #   Column          Non-Null Count  Dtype         \n",
      "---  ------          --------------  -----         \n",
      " 0   transaction_id  7829 non-null   object        \n",
      " 1   timestamp       7829 non-null   datetime64[ns]\n",
      " 2   product_id      7829 non-null   object        \n",
      " 3   category        7829 non-null   object        \n",
      " 4   customer_type   7829 non-null   object        \n",
      " 5   unit_price      7829 non-null   float64       \n",
      " 6   quantity        7829 non-null   int64         \n",
      " 7   total           7829 non-null   float64       \n",
      " 8   payment_type    7829 non-null   object        \n",
      "dtypes: datetime64[ns](1), float64(2), int64(1), object(5)\n",
      "memory usage: 550.6+ KB\n"
     ]
    }
   ],
   "source": [
    "sales_data.info()"
   ]
  },
  {
   "cell_type": "code",
   "execution_count": 86,
   "id": "38e1831d",
   "metadata": {},
   "outputs": [
    {
     "data": {
      "text/html": [
       "<div>\n",
       "<style scoped>\n",
       "    .dataframe tbody tr th:only-of-type {\n",
       "        vertical-align: middle;\n",
       "    }\n",
       "\n",
       "    .dataframe tbody tr th {\n",
       "        vertical-align: top;\n",
       "    }\n",
       "\n",
       "    .dataframe thead th {\n",
       "        text-align: right;\n",
       "    }\n",
       "</style>\n",
       "<table border=\"1\" class=\"dataframe\">\n",
       "  <thead>\n",
       "    <tr style=\"text-align: right;\">\n",
       "      <th></th>\n",
       "      <th>transaction_id</th>\n",
       "      <th>timestamp</th>\n",
       "      <th>product_id</th>\n",
       "      <th>category</th>\n",
       "      <th>customer_type</th>\n",
       "      <th>unit_price</th>\n",
       "      <th>quantity</th>\n",
       "      <th>total</th>\n",
       "      <th>payment_type</th>\n",
       "    </tr>\n",
       "  </thead>\n",
       "  <tbody>\n",
       "    <tr>\n",
       "      <th>0</th>\n",
       "      <td>a1c82654-c52c-45b3-8ce8-4c2a1efe63ed</td>\n",
       "      <td>2022-03-02 09:51:38</td>\n",
       "      <td>3bc6c1ea-0198-46de-9ffd-514ae3338713</td>\n",
       "      <td>fruit</td>\n",
       "      <td>gold</td>\n",
       "      <td>3.99</td>\n",
       "      <td>2</td>\n",
       "      <td>7.98</td>\n",
       "      <td>e-wallet</td>\n",
       "    </tr>\n",
       "    <tr>\n",
       "      <th>1</th>\n",
       "      <td>931ad550-09e8-4da6-beaa-8c9d17be9c60</td>\n",
       "      <td>2022-03-06 10:33:59</td>\n",
       "      <td>ad81b46c-bf38-41cf-9b54-5fe7f5eba93e</td>\n",
       "      <td>fruit</td>\n",
       "      <td>standard</td>\n",
       "      <td>3.99</td>\n",
       "      <td>1</td>\n",
       "      <td>3.99</td>\n",
       "      <td>e-wallet</td>\n",
       "    </tr>\n",
       "    <tr>\n",
       "      <th>2</th>\n",
       "      <td>ae133534-6f61-4cd6-b6b8-d1c1d8d90aea</td>\n",
       "      <td>2022-03-04 17:20:21</td>\n",
       "      <td>7c55cbd4-f306-4c04-a030-628cbe7867c1</td>\n",
       "      <td>fruit</td>\n",
       "      <td>premium</td>\n",
       "      <td>0.19</td>\n",
       "      <td>2</td>\n",
       "      <td>0.38</td>\n",
       "      <td>e-wallet</td>\n",
       "    </tr>\n",
       "    <tr>\n",
       "      <th>3</th>\n",
       "      <td>157cebd9-aaf0-475d-8a11-7c8e0f5b76e4</td>\n",
       "      <td>2022-03-02 17:23:58</td>\n",
       "      <td>80da8348-1707-403f-8be7-9e6deeccc883</td>\n",
       "      <td>fruit</td>\n",
       "      <td>gold</td>\n",
       "      <td>0.19</td>\n",
       "      <td>4</td>\n",
       "      <td>0.76</td>\n",
       "      <td>e-wallet</td>\n",
       "    </tr>\n",
       "    <tr>\n",
       "      <th>4</th>\n",
       "      <td>a81a6cd3-5e0c-44a2-826c-aea43e46c514</td>\n",
       "      <td>2022-03-05 14:32:43</td>\n",
       "      <td>7f5e86e6-f06f-45f6-bf44-27b095c9ad1d</td>\n",
       "      <td>fruit</td>\n",
       "      <td>basic</td>\n",
       "      <td>4.49</td>\n",
       "      <td>2</td>\n",
       "      <td>8.98</td>\n",
       "      <td>debit card</td>\n",
       "    </tr>\n",
       "  </tbody>\n",
       "</table>\n",
       "</div>"
      ],
      "text/plain": [
       "                         transaction_id           timestamp  \\\n",
       "0  a1c82654-c52c-45b3-8ce8-4c2a1efe63ed 2022-03-02 09:51:38   \n",
       "1  931ad550-09e8-4da6-beaa-8c9d17be9c60 2022-03-06 10:33:59   \n",
       "2  ae133534-6f61-4cd6-b6b8-d1c1d8d90aea 2022-03-04 17:20:21   \n",
       "3  157cebd9-aaf0-475d-8a11-7c8e0f5b76e4 2022-03-02 17:23:58   \n",
       "4  a81a6cd3-5e0c-44a2-826c-aea43e46c514 2022-03-05 14:32:43   \n",
       "\n",
       "                             product_id category customer_type  unit_price  \\\n",
       "0  3bc6c1ea-0198-46de-9ffd-514ae3338713    fruit          gold        3.99   \n",
       "1  ad81b46c-bf38-41cf-9b54-5fe7f5eba93e    fruit      standard        3.99   \n",
       "2  7c55cbd4-f306-4c04-a030-628cbe7867c1    fruit       premium        0.19   \n",
       "3  80da8348-1707-403f-8be7-9e6deeccc883    fruit          gold        0.19   \n",
       "4  7f5e86e6-f06f-45f6-bf44-27b095c9ad1d    fruit         basic        4.49   \n",
       "\n",
       "   quantity  total payment_type  \n",
       "0         2   7.98     e-wallet  \n",
       "1         1   3.99     e-wallet  \n",
       "2         2   0.38     e-wallet  \n",
       "3         4   0.76     e-wallet  \n",
       "4         2   8.98   debit card  "
      ]
     },
     "execution_count": 86,
     "metadata": {},
     "output_type": "execute_result"
    }
   ],
   "source": [
    "sales_data.head()"
   ]
  },
  {
   "cell_type": "markdown",
   "id": "217ac5b6",
   "metadata": {},
   "source": [
    "### Missing Value and Duplicate Data Check"
   ]
  },
  {
   "cell_type": "code",
   "execution_count": 87,
   "id": "9ec4bde3",
   "metadata": {},
   "outputs": [
    {
     "data": {
      "text/plain": [
       "transaction_id    0\n",
       "timestamp         0\n",
       "product_id        0\n",
       "category          0\n",
       "customer_type     0\n",
       "unit_price        0\n",
       "quantity          0\n",
       "total             0\n",
       "payment_type      0\n",
       "dtype: int64"
      ]
     },
     "execution_count": 87,
     "metadata": {},
     "output_type": "execute_result"
    }
   ],
   "source": [
    "#Missing Values Check\n",
    "sales_data.isnull().sum()"
   ]
  },
  {
   "cell_type": "markdown",
   "id": "5860539a",
   "metadata": {},
   "source": [
    "*There are No missing values in the data*"
   ]
  },
  {
   "cell_type": "code",
   "execution_count": 88,
   "id": "eb8c4fb5",
   "metadata": {},
   "outputs": [
    {
     "data": {
      "text/plain": [
       "0"
      ]
     },
     "execution_count": 88,
     "metadata": {},
     "output_type": "execute_result"
    }
   ],
   "source": [
    "#Duplicate Values Check\n",
    "sales_data.duplicated().sum()"
   ]
  },
  {
   "cell_type": "markdown",
   "id": "64bececf",
   "metadata": {},
   "source": [
    "*There is No duplicated Data*"
   ]
  },
  {
   "cell_type": "markdown",
   "id": "63e1612c",
   "metadata": {},
   "source": [
    "### Separating Different types of Features"
   ]
  },
  {
   "cell_type": "markdown",
   "id": "ad49c511",
   "metadata": {},
   "source": [
    "### Date-Time Features"
   ]
  },
  {
   "cell_type": "code",
   "execution_count": 89,
   "id": "7e57e442",
   "metadata": {},
   "outputs": [
    {
     "data": {
      "text/plain": [
       "['timestamp']"
      ]
     },
     "execution_count": 89,
     "metadata": {},
     "output_type": "execute_result"
    }
   ],
   "source": [
    "#TimeStamp Features\n",
    "dt_features= [feature for feature in sales_data.columns if sales_data[feature].dtypes == 'datetime64[ns]']\n",
    "dt_features"
   ]
  },
  {
   "cell_type": "code",
   "execution_count": 90,
   "id": "bcf74cd5",
   "metadata": {},
   "outputs": [
    {
     "data": {
      "text/plain": [
       "2022    7829\n",
       "Name: timestamp, dtype: int64"
      ]
     },
     "execution_count": 90,
     "metadata": {},
     "output_type": "execute_result"
    }
   ],
   "source": [
    "yr=sales_data['timestamp'].dt.year\n",
    "yr.value_counts()"
   ]
  },
  {
   "cell_type": "markdown",
   "id": "a66ae125",
   "metadata": {},
   "source": [
    "*Since All the records are from Year 2022, We dont have to worry about this*"
   ]
  },
  {
   "cell_type": "code",
   "execution_count": 91,
   "id": "ff4a1c32",
   "metadata": {},
   "outputs": [
    {
     "data": {
      "text/plain": [
       "3    7829\n",
       "Name: timestamp, dtype: int64"
      ]
     },
     "execution_count": 91,
     "metadata": {},
     "output_type": "execute_result"
    }
   ],
   "source": [
    "mnth=sales_data['timestamp'].dt.month\n",
    "mnth.value_counts()"
   ]
  },
  {
   "cell_type": "markdown",
   "id": "c9b197c0",
   "metadata": {},
   "source": [
    "*Since All the records are from Month 3 (March), We dont have to worry about this*"
   ]
  },
  {
   "cell_type": "code",
   "execution_count": 102,
   "id": "f513de09",
   "metadata": {},
   "outputs": [
    {
     "data": {
      "text/plain": [
       "2    1168\n",
       "1    1165\n",
       "6    1132\n",
       "4    1108\n",
       "7    1104\n",
       "3    1078\n",
       "5    1074\n",
       "Name: timestamp, dtype: int64"
      ]
     },
     "execution_count": 102,
     "metadata": {},
     "output_type": "execute_result"
    }
   ],
   "source": [
    "dt=sales_data['timestamp'].dt.day\n",
    "dt.value_counts()"
   ]
  },
  {
   "cell_type": "code",
   "execution_count": 188,
   "id": "ccd2c514",
   "metadata": {},
   "outputs": [
    {
     "data": {
      "text/plain": [
       "<AxesSubplot: xlabel='timestamp', ylabel='count'>"
      ]
     },
     "execution_count": 188,
     "metadata": {},
     "output_type": "execute_result"
    },
    {
     "data": {
      "image/png": "[encoded data removed]",
      "text/plain": [
       "<Figure size 640x480 with 1 Axes>"
      ]
     },
     "metadata": {},
     "output_type": "display_data"
    }
   ],
   "source": [
    "sns.countplot(x=dt)"
   ]
  },
  {
   "cell_type": "markdown",
   "id": "2cdadb60",
   "metadata": {},
   "source": [
    "*Records are distributed from 01/Mar to 07/Mar. There is not much variation visible between the days*"
   ]
  },
  {
   "cell_type": "code",
   "execution_count": 46,
   "id": "a81a3792",
   "metadata": {},
   "outputs": [
    {
     "data": {
      "text/plain": [
       "11    738\n",
       "16    730\n",
       "18    727\n",
       "10    723\n",
       "12    721\n",
       "9     718\n",
       "19    709\n",
       "14    702\n",
       "17    699\n",
       "13    693\n",
       "15    669\n",
       "Name: timestamp, dtype: int64"
      ]
     },
     "execution_count": 46,
     "metadata": {},
     "output_type": "execute_result"
    }
   ],
   "source": [
    "hr=sales_data['timestamp'].dt.hour\n",
    "hr.value_counts()"
   ]
  },
  {
   "cell_type": "code",
   "execution_count": 106,
   "id": "c409b4c3",
   "metadata": {},
   "outputs": [
    {
     "data": {
      "text/plain": [
       "<AxesSubplot: xlabel='timestamp', ylabel='count'>"
      ]
     },
     "execution_count": 106,
     "metadata": {},
     "output_type": "execute_result"
    },
    {
     "data": {
      "image/png": "[encoded data removed]",
      "text/plain": [
       "<Figure size 640x480 with 1 Axes>"
      ]
     },
     "metadata": {},
     "output_type": "display_data"
    }
   ],
   "source": [
    "sns.countplot(x=hr)"
   ]
  },
  {
   "cell_type": "markdown",
   "id": "966d00ed",
   "metadata": {},
   "source": [
    "*Records are distributed from 09HR to 19HR. There is not much variation visible between the days*"
   ]
  },
  {
   "cell_type": "markdown",
   "id": "3071ba56",
   "metadata": {},
   "source": [
    "### Categorical Features"
   ]
  },
  {
   "cell_type": "code",
   "execution_count": 159,
   "id": "98901aa8",
   "metadata": {},
   "outputs": [
    {
     "data": {
      "text/plain": [
       "['transaction_id', 'product_id', 'category', 'customer_type', 'payment_type']"
      ]
     },
     "execution_count": 159,
     "metadata": {},
     "output_type": "execute_result"
    }
   ],
   "source": [
    "#Categorical Features\n",
    "cat_features= [feature for feature in sales_data.columns if sales_data[feature].dtypes == 'O']\n",
    "cat_features"
   ]
  },
  {
   "cell_type": "code",
   "execution_count": 160,
   "id": "2ade159b",
   "metadata": {},
   "outputs": [
    {
     "name": "stdout",
     "output_type": "stream",
     "text": [
      "transaction_id : 7829\n",
      "product_id : 300\n",
      "category : 22\n",
      "customer_type : 5\n",
      "payment_type : 4\n"
     ]
    }
   ],
   "source": [
    "for feature in cat_features:\n",
    "    print(feature,':',len(sales_data[feature].unique()))"
   ]
  },
  {
   "cell_type": "markdown",
   "id": "6592c199",
   "metadata": {},
   "source": [
    "*Here Transaction ID is unique Transaction identifier which has 7829 unique values.*"
   ]
  },
  {
   "cell_type": "code",
   "execution_count": 161,
   "id": "46fa4b7f",
   "metadata": {},
   "outputs": [
    {
     "data": {
      "text/plain": [
       "ecac012c-1dec-41d4-9ebd-56fb7166f6d9    114\n",
       "80da8348-1707-403f-8be7-9e6deeccc883    109\n",
       "0ddc2379-adba-4fb0-aa97-19fcafc738a1    108\n",
       "7c55cbd4-f306-4c04-a030-628cbe7867c1    104\n",
       "3bc6c1ea-0198-46de-9ffd-514ae3338713    101\n",
       "                                       ... \n",
       "49f7d4a9-713a-4824-b378-aebb33ff8b2f      5\n",
       "a8fab83a-16d4-4db0-a83a-f824ecd8604a      5\n",
       "c8de27d0-2c44-4b5a-b178-59c45d054ccb      5\n",
       "5adfc643-aa8e-4140-b2c3-98a946444632      5\n",
       "ec0bb9b5-45e3-4de8-963d-e92aa91a201e      3\n",
       "Name: product_id, Length: 300, dtype: int64"
      ]
     },
     "execution_count": 161,
     "metadata": {},
     "output_type": "execute_result"
    }
   ],
   "source": [
    "sales_data['product_id'].value_counts()"
   ]
  },
  {
   "cell_type": "markdown",
   "id": "8c608e07",
   "metadata": {},
   "source": [
    "*Here Product ID is unique product identifier.<br>*\n",
    "*There are 300 different products with multiple transactions from 114 transaction for a product being the highest to 3 being the lowest*"
   ]
  },
  {
   "cell_type": "code",
   "execution_count": 162,
   "id": "ab6561c5",
   "metadata": {},
   "outputs": [
    {
     "data": {
      "text/plain": [
       "fruit                    998\n",
       "vegetables               846\n",
       "packaged foods           507\n",
       "baked goods              443\n",
       "canned foods             431\n",
       "refrigerated items       425\n",
       "kitchen                  382\n",
       "meat                     382\n",
       "dairy                    375\n",
       "beverages                301\n",
       "cheese                   293\n",
       "cleaning products        292\n",
       "baking                   264\n",
       "snacks                   263\n",
       "frozen                   263\n",
       "seafood                  253\n",
       "medicine                 243\n",
       "baby products            224\n",
       "condiments and sauces    181\n",
       "personal care            177\n",
       "pets                     161\n",
       "spices and herbs         125\n",
       "Name: category, dtype: int64"
      ]
     },
     "execution_count": 162,
     "metadata": {},
     "output_type": "execute_result"
    }
   ],
   "source": [
    "sales_data['category'].value_counts()"
   ]
  },
  {
   "cell_type": "code",
   "execution_count": 164,
   "id": "8bd164c6",
   "metadata": {},
   "outputs": [
    {
     "data": {
      "text/plain": [
       "<AxesSubplot: xlabel='count', ylabel='category'>"
      ]
     },
     "execution_count": 164,
     "metadata": {},
     "output_type": "execute_result"
    },
    {
     "data": {
      "image/png": "[encoded data removed]",
      "text/plain": [
       "<Figure size 640x480 with 1 Axes>"
      ]
     },
     "metadata": {},
     "output_type": "display_data"
    }
   ],
   "source": [
    "sns.countplot(y=sales_data['category'])"
   ]
  },
  {
   "cell_type": "markdown",
   "id": "baad2460",
   "metadata": {},
   "source": [
    "*There are 22 different categories in Products. Can be Minimised by grouping similar categories* "
   ]
  },
  {
   "cell_type": "code",
   "execution_count": 165,
   "id": "0b35ff6a",
   "metadata": {},
   "outputs": [
    {
     "data": {
      "text/plain": [
       "non-member    1601\n",
       "standard      1595\n",
       "premium       1590\n",
       "basic         1526\n",
       "gold          1517\n",
       "Name: customer_type, dtype: int64"
      ]
     },
     "execution_count": 165,
     "metadata": {},
     "output_type": "execute_result"
    }
   ],
   "source": [
    "sales_data['customer_type'].value_counts()"
   ]
  },
  {
   "cell_type": "code",
   "execution_count": 167,
   "id": "1564f556",
   "metadata": {},
   "outputs": [
    {
     "data": {
      "text/plain": [
       "<AxesSubplot: xlabel='customer_type', ylabel='count'>"
      ]
     },
     "execution_count": 167,
     "metadata": {},
     "output_type": "execute_result"
    },
    {
     "data": {
      "image/png": "[encoded data removed]",
      "text/plain": [
       "<Figure size 640x480 with 1 Axes>"
      ]
     },
     "metadata": {},
     "output_type": "display_data"
    }
   ],
   "source": [
    "sns.countplot(x=sales_data['customer_type'])"
   ]
  },
  {
   "cell_type": "markdown",
   "id": "ec17275f",
   "metadata": {},
   "source": [
    "*There are 5 Customer Types.This is Ordinal Data and can be encoded*"
   ]
  },
  {
   "cell_type": "code",
   "execution_count": 166,
   "id": "443799c7",
   "metadata": {},
   "outputs": [
    {
     "data": {
      "text/plain": [
       "cash           2027\n",
       "credit card    1949\n",
       "e-wallet       1935\n",
       "debit card     1918\n",
       "Name: payment_type, dtype: int64"
      ]
     },
     "execution_count": 166,
     "metadata": {},
     "output_type": "execute_result"
    }
   ],
   "source": [
    "sales_data['payment_type'].value_counts()"
   ]
  },
  {
   "cell_type": "code",
   "execution_count": 168,
   "id": "f1edc9bd",
   "metadata": {},
   "outputs": [
    {
     "data": {
      "text/plain": [
       "<AxesSubplot: xlabel='payment_type', ylabel='count'>"
      ]
     },
     "execution_count": 168,
     "metadata": {},
     "output_type": "execute_result"
    },
    {
     "data": {
      "image/png": "[encoded data removed]",
      "text/plain": [
       "<Figure size 640x480 with 1 Axes>"
      ]
     },
     "metadata": {},
     "output_type": "display_data"
    }
   ],
   "source": [
    "sns.countplot(x=sales_data['payment_type'])"
   ]
  },
  {
   "cell_type": "markdown",
   "id": "c8775dbf",
   "metadata": {},
   "source": [
    "*There are 4 Types of Payment has been made from Customers. This is Nominal Data and can be encoded*"
   ]
  },
  {
   "cell_type": "markdown",
   "id": "09da3b8c",
   "metadata": {},
   "source": [
    "### Numerical Features"
   ]
  },
  {
   "cell_type": "code",
   "execution_count": 171,
   "id": "0e8d96ab",
   "metadata": {},
   "outputs": [
    {
     "data": {
      "text/plain": [
       "['unit_price', 'quantity', 'total']"
      ]
     },
     "execution_count": 171,
     "metadata": {},
     "output_type": "execute_result"
    }
   ],
   "source": [
    "#Numerical Features\n",
    "num_features= [feature for feature in sales_data.columns if sales_data[feature].dtypes != 'O' and sales_data[feature].dtypes != 'datetime64[ns]']\n",
    "num_features"
   ]
  },
  {
   "cell_type": "code",
   "execution_count": 173,
   "id": "7601ad86",
   "metadata": {},
   "outputs": [
    {
     "name": "stdout",
     "output_type": "stream",
     "text": [
      "unit_price : 64\n",
      "quantity : 4\n",
      "total : 256\n"
     ]
    }
   ],
   "source": [
    "for feature in num_features:\n",
    "    print(feature,':',len(sales_data[feature].unique()))"
   ]
  },
  {
   "cell_type": "code",
   "execution_count": 175,
   "id": "be4a12c1",
   "metadata": {},
   "outputs": [
    {
     "data": {
      "text/plain": [
       "1    1979\n",
       "4    1976\n",
       "3    1954\n",
       "2    1920\n",
       "Name: quantity, dtype: int64"
      ]
     },
     "execution_count": 175,
     "metadata": {},
     "output_type": "execute_result"
    }
   ],
   "source": [
    "sales_data['quantity'].value_counts()"
   ]
  },
  {
   "cell_type": "code",
   "execution_count": 177,
   "id": "9eb57afa",
   "metadata": {},
   "outputs": [
    {
     "data": {
      "text/plain": [
       "<AxesSubplot: xlabel='quantity', ylabel='count'>"
      ]
     },
     "execution_count": 177,
     "metadata": {},
     "output_type": "execute_result"
    },
    {
     "data": {
      "image/png": "[encoded data removed]",
      "text/plain": [
       "<Figure size 640x480 with 1 Axes>"
      ]
     },
     "metadata": {},
     "output_type": "display_data"
    }
   ],
   "source": [
    "sns.countplot(x=sales_data['quantity'])"
   ]
  },
  {
   "cell_type": "markdown",
   "id": "de28ae3a",
   "metadata": {},
   "source": [
    "*Quantity vary from lowest being 1 to 4 being the highest. There is no visible difference between quantity* "
   ]
  },
  {
   "cell_type": "code",
   "execution_count": 182,
   "id": "9e60afb5",
   "metadata": {},
   "outputs": [
    {
     "data": {
      "text/plain": [
       "<AxesSubplot: xlabel='unit_price', ylabel='Count'>"
      ]
     },
     "execution_count": 182,
     "metadata": {},
     "output_type": "execute_result"
    },
    {
     "data": {
      "image/png": "[encoded data removed]",
      "text/plain": [
       "<Figure size 640x480 with 1 Axes>"
      ]
     },
     "metadata": {},
     "output_type": "display_data"
    }
   ],
   "source": [
    "sns.histplot(sales_data['unit_price'])"
   ]
  },
  {
   "cell_type": "code",
   "execution_count": 183,
   "id": "1cc111a0",
   "metadata": {},
   "outputs": [
    {
     "data": {
      "text/plain": [
       "<AxesSubplot: >"
      ]
     },
     "execution_count": 183,
     "metadata": {},
     "output_type": "execute_result"
    },
    {
     "data": {
      "image/png": "[encoded data removed]",
      "text/plain": [
       "<Figure size 640x480 with 1 Axes>"
      ]
     },
     "metadata": {},
     "output_type": "display_data"
    }
   ],
   "source": [
    "sns.boxplot(sales_data['unit_price'])"
   ]
  },
  {
   "cell_type": "markdown",
   "id": "3451c1fe",
   "metadata": {},
   "source": [
    "*There is 1 Outlier in the unit price*"
   ]
  },
  {
   "cell_type": "code",
   "execution_count": 184,
   "id": "fc878200",
   "metadata": {},
   "outputs": [
    {
     "data": {
      "text/plain": [
       "<AxesSubplot: xlabel='total', ylabel='Count'>"
      ]
     },
     "execution_count": 184,
     "metadata": {},
     "output_type": "execute_result"
    },
    {
     "data": {
      "image/png": "[encoded data removed]",
      "text/plain": [
       "<Figure size 640x480 with 1 Axes>"
      ]
     },
     "metadata": {},
     "output_type": "display_data"
    }
   ],
   "source": [
    "sns.histplot(sales_data['total'])"
   ]
  },
  {
   "cell_type": "code",
   "execution_count": 185,
   "id": "d42a1b7f",
   "metadata": {},
   "outputs": [
    {
     "data": {
      "text/plain": [
       "<AxesSubplot: >"
      ]
     },
     "execution_count": 185,
     "metadata": {},
     "output_type": "execute_result"
    },
    {
     "data": {
      "image/png": "[encoded data removed]",
      "text/plain": [
       "<Figure size 640x480 with 1 Axes>"
      ]
     },
     "metadata": {},
     "output_type": "display_data"
    }
   ],
   "source": [
    "sns.boxplot(sales_data['total'])"
   ]
  },
  {
   "cell_type": "markdown",
   "id": "67ad9c97",
   "metadata": {},
   "source": [
    "*There are multiple outliers in total*"
   ]
  },
  {
   "cell_type": "code",
   "execution_count": 186,
   "id": "7e91ca90",
   "metadata": {},
   "outputs": [
    {
     "name": "stderr",
     "output_type": "stream",
     "text": [
      "C:\\Users\\varun\\AppData\\Local\\Temp\\ipykernel_2380\\3303374483.py:1: FutureWarning: The default value of numeric_only in DataFrame.corr is deprecated. In a future version, it will default to False. Select only valid columns or specify the value of numeric_only to silence this warning.\n",
      "  sales_data.corr()\n"
     ]
    },
    {
     "data": {
      "text/html": [
       "<div>\n",
       "<style scoped>\n",
       "    .dataframe tbody tr th:only-of-type {\n",
       "        vertical-align: middle;\n",
       "    }\n",
       "\n",
       "    .dataframe tbody tr th {\n",
       "        vertical-align: top;\n",
       "    }\n",
       "\n",
       "    .dataframe thead th {\n",
       "        text-align: right;\n",
       "    }\n",
       "</style>\n",
       "<table border=\"1\" class=\"dataframe\">\n",
       "  <thead>\n",
       "    <tr style=\"text-align: right;\">\n",
       "      <th></th>\n",
       "      <th>unit_price</th>\n",
       "      <th>quantity</th>\n",
       "      <th>total</th>\n",
       "    </tr>\n",
       "  </thead>\n",
       "  <tbody>\n",
       "    <tr>\n",
       "      <th>unit_price</th>\n",
       "      <td>1.000000</td>\n",
       "      <td>0.024588</td>\n",
       "      <td>0.792018</td>\n",
       "    </tr>\n",
       "    <tr>\n",
       "      <th>quantity</th>\n",
       "      <td>0.024588</td>\n",
       "      <td>1.000000</td>\n",
       "      <td>0.521926</td>\n",
       "    </tr>\n",
       "    <tr>\n",
       "      <th>total</th>\n",
       "      <td>0.792018</td>\n",
       "      <td>0.521926</td>\n",
       "      <td>1.000000</td>\n",
       "    </tr>\n",
       "  </tbody>\n",
       "</table>\n",
       "</div>"
      ],
      "text/plain": [
       "            unit_price  quantity     total\n",
       "unit_price    1.000000  0.024588  0.792018\n",
       "quantity      0.024588  1.000000  0.521926\n",
       "total         0.792018  0.521926  1.000000"
      ]
     },
     "execution_count": 186,
     "metadata": {},
     "output_type": "execute_result"
    }
   ],
   "source": [
    "sales_data.corr()"
   ]
  },
  {
   "cell_type": "markdown",
   "id": "3c50b07b",
   "metadata": {},
   "source": [
    "*There is high correlation between Unit price and Total*"
   ]
  }
 ],
 "metadata": {
  "kernelspec": {
   "display_name": "Python 3 (ipykernel)",
   "language": "python",
   "name": "python3"
  },
  "language_info": {
   "codemirror_mode": {
    "name": "ipython",
    "version": 3
   },
   "file_extension": ".py",
   "mimetype": "text/x-python",
   "name": "python",
   "nbconvert_exporter": "python",
   "pygments_lexer": "ipython3",
   "version": "3.9.13"
  }
 },
 "nbformat": 4,
 "nbformat_minor": 5
}
